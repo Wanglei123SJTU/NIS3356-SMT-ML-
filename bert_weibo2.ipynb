{
 "cells": [
  {
   "cell_type": "code",
   "execution_count": null,
   "metadata": {},
   "outputs": [],
   "source": [
    "import pandas as pd\n",
    "data = pd.read_csv('./weibo_data.csv',encoding='gbk')\n",
    "data.head()\n",
    "weibo_content_list=data.iloc[:, 11].tolist()\n",
    "weibo_fenlei_list=data.iloc[:,4].tolist()\n",
    "weibo_hot_list=data.iloc[:,5].tolist()\n"
   ]
  },
  {
   "cell_type": "code",
   "execution_count": null,
   "metadata": {},
   "outputs": [],
   "source": [
    "weibo_tuple_list=[]\n",
    "for i in range(len(weibo_hot_list)):\n",
    "    try:\n",
    "        hot_times=int(weibo_hot_list[i]/100000)\n",
    "        weibo_tuple_list.append((weibo_content_list[i],weibo_hot_list[i]))\n",
    "    except:\n",
    "        continue\n"
   ]
  },
  {
   "cell_type": "code",
   "execution_count": null,
   "metadata": {},
   "outputs": [],
   "source": [
    "print(len(weibo_tuple_list))"
   ]
  }
 ],
 "metadata": {
  "kernelspec": {
   "display_name": "bert",
   "language": "python",
   "name": "python3"
  },
  "language_info": {
   "codemirror_mode": {
    "name": "ipython",
    "version": 3
   },
   "file_extension": ".py",
   "mimetype": "text/x-python",
   "name": "python",
   "nbconvert_exporter": "python",
   "pygments_lexer": "ipython3",
   "version": "3.8.18"
  }
 },
 "nbformat": 4,
 "nbformat_minor": 2
}
