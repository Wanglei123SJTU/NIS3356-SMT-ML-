{
 "cells": [
  {
   "cell_type": "code",
   "execution_count": 1,
   "metadata": {},
   "outputs": [],
   "source": [
    "import json\n",
    "import csv\n",
    "from requests import get\n",
    "from tqdm import tqdm\n",
    "from time import sleep\n",
    "import os"
   ]
  },
  {
   "cell_type": "code",
   "execution_count": 4,
   "metadata": {},
   "outputs": [
    {
     "name": "stdout",
     "output_type": "stream",
     "text": [
      "20210719.json\n",
      "20210723.json\n",
      "20210703.json\n",
      "20210715.json\n",
      "20210806.json\n",
      "20210810.json\n",
      "20210811.json\n",
      "20210807.json\n",
      ".DS_Store\n",
      "20210714.json\n",
      "20210702.json\n",
      "20210722.json\n",
      "20210630.json\n",
      "20210718.json\n",
      "20210705.json\n",
      "20210713.json\n",
      "20210729.json\n",
      "20210816.json\n",
      "20210709.json\n",
      "20210820.json\n",
      "20210725.json\n",
      "20210724.json\n",
      "20210821.json\n",
      "20210708.json\n",
      "20210817.json\n",
      "20210728.json\n",
      "20210801.json\n",
      "20210712.json\n",
      "20210704.json\n",
      "20210814.json\n",
      "20210802.json\n",
      "20210711.json\n",
      "20210707.json\n",
      "20210727.json\n",
      "20210818.json\n",
      "20210731.json\n",
      "20210822.json\n",
      "20210823.json\n",
      "20210730.json\n",
      "20210819.json\n",
      "20210726.json\n",
      "20210706.json\n",
      "20210710.json\n",
      "20210803.json\n",
      "20210815.json\n",
      "20210721.json\n",
      "20210808.json\n",
      "20210824.json\n",
      "20210812.json\n",
      "20210629.json\n",
      "20210804.json\n",
      "20210717.json\n",
      "20210701.json\n",
      "20210716.json\n",
      "20210805.json\n",
      "20210813.json\n",
      "20210825.json\n",
      "20210809.json\n",
      "20210720.json\n"
     ]
    }
   ],
   "source": [
    "url = \"https://api.zhihu.com/questions/\"\n",
    "\n",
    "num = 1\n",
    "for _, _, files in os.walk('./data'):\n",
    "    total_num = len(files)\n",
    "    for file in files:\n",
    "        print('{}/{}'.format(num, total_num))\n",
    "        with open('./data/' + file, \"r\", encoding=\"UTF-8\") as file:\n",
    "            data = json.load(file)\n",
    "            \n",
    "        for i, v in tqdm(data.items()):\n",
    "            try:\n",
    "                id = int(i)\n",
    "            except:\n",
    "                continue\n",
    "            a = get(url + i)\n",
    "            if a.status_code == 403:\n",
    "                print('\\033[0;31;40m被ban了！\\033[0m')\n",
    "                exit(0)\n",
    "            elif a.status_code == 404:\n",
    "                continue\n",
    "            time = a.json()['created']\n",
    "            writer.writerows([[str(time), v['title']]])\n",
    "        num += 1\n",
    "        sleep(0.2)"
   ]
  },
  {
   "cell_type": "code",
   "execution_count": 5,
   "metadata": {},
   "outputs": [
    {
     "name": "stdout",
     "output_type": "stream",
     "text": [
      "1/59\n"
     ]
    },
    {
     "name": "stderr",
     "output_type": "stream",
     "text": [
      "100%|██████████| 197/197 [01:13<00:00,  2.69it/s]\n"
     ]
    },
    {
     "name": "stdout",
     "output_type": "stream",
     "text": [
      "2/59\n"
     ]
    },
    {
     "name": "stderr",
     "output_type": "stream",
     "text": [
      "100%|██████████| 178/178 [01:32<00:00,  1.93it/s]\n"
     ]
    },
    {
     "name": "stdout",
     "output_type": "stream",
     "text": [
      "3/59\n"
     ]
    },
    {
     "name": "stderr",
     "output_type": "stream",
     "text": [
      " 84%|████████▍ | 129/154 [00:54<00:10,  2.37it/s]"
     ]
    },
    {
     "name": "stdout",
     "output_type": "stream",
     "text": [
      "\u001b[0;31;40m被ban了！\u001b[0m\n"
     ]
    },
    {
     "name": "stderr",
     "output_type": "stream",
     "text": [
      "\n"
     ]
    },
    {
     "ename": "KeyError",
     "evalue": "'created'",
     "output_type": "error",
     "traceback": [
      "\u001b[0;31m---------------------------------------------------------------------------\u001b[0m",
      "\u001b[0;31mKeyError\u001b[0m                                  Traceback (most recent call last)",
      "\u001b[1;32m/Users/liufazhong/Documents/GitHub/content_safety/convert.ipynb 单元格 3\u001b[0m line \u001b[0;36m2\n\u001b[1;32m     <a href='vscode-notebook-cell:/Users/liufazhong/Documents/GitHub/content_safety/convert.ipynb#W0sZmlsZQ%3D%3D?line=21'>22</a>\u001b[0m     \u001b[39melif\u001b[39;00m a\u001b[39m.\u001b[39mstatus_code \u001b[39m==\u001b[39m \u001b[39m404\u001b[39m:\n\u001b[1;32m     <a href='vscode-notebook-cell:/Users/liufazhong/Documents/GitHub/content_safety/convert.ipynb#W0sZmlsZQ%3D%3D?line=22'>23</a>\u001b[0m         \u001b[39mcontinue\u001b[39;00m\n\u001b[0;32m---> <a href='vscode-notebook-cell:/Users/liufazhong/Documents/GitHub/content_safety/convert.ipynb#W0sZmlsZQ%3D%3D?line=23'>24</a>\u001b[0m     time \u001b[39m=\u001b[39m a\u001b[39m.\u001b[39;49mjson()[\u001b[39m'\u001b[39;49m\u001b[39mcreated\u001b[39;49m\u001b[39m'\u001b[39;49m]\n\u001b[1;32m     <a href='vscode-notebook-cell:/Users/liufazhong/Documents/GitHub/content_safety/convert.ipynb#W0sZmlsZQ%3D%3D?line=24'>25</a>\u001b[0m     writer\u001b[39m.\u001b[39mwriterows([[\u001b[39mstr\u001b[39m(time), v[\u001b[39m'\u001b[39m\u001b[39mtitle\u001b[39m\u001b[39m'\u001b[39m]]])\n\u001b[1;32m     <a href='vscode-notebook-cell:/Users/liufazhong/Documents/GitHub/content_safety/convert.ipynb#W0sZmlsZQ%3D%3D?line=25'>26</a>\u001b[0m num \u001b[39m+\u001b[39m\u001b[39m=\u001b[39m \u001b[39m1\u001b[39m\n",
      "\u001b[0;31mKeyError\u001b[0m: 'created'"
     ]
    },
    {
     "ename": "",
     "evalue": "",
     "output_type": "error",
     "traceback": [
      "\u001b[1;31m在当前单元格或上一个单元格中执行代码时 Kernel 崩溃。请查看单元格中的代码，以确定故障的可能原因。有关详细信息，请单击 <a href='https://aka.ms/vscodeJupyterKernelCrash'>此处</a>。有关更多详细信息，请查看 Jupyter <a href='command:jupyter.viewOutput'>log</a>。"
     ]
    }
   ],
   "source": [
    "\n",
    "\n",
    "file = open('res2.csv', 'a', newline='')\n",
    "writer = csv.writer(file)\n",
    "url = \"https://api.zhihu.com/questions/\"\n",
    "\n",
    "num = 1\n",
    "for _, _, files in os.walk('./data'):\n",
    "    total_num = len(files)\n",
    "    for file in files:\n",
    "        print('{}/{}'.format(num, total_num))\n",
    "        with open('./data/' + file, \"r\", encoding=\"UTF-8\") as file:\n",
    "            data = json.load(file)\n",
    "            \n",
    "        for i, v in tqdm(data.items()):\n",
    "            try:\n",
    "                id = int(i)\n",
    "            except:\n",
    "                continue\n",
    "            a = get(url + i)\n",
    "            if a.status_code == 403:\n",
    "                print('\\033[0;31;40m被ban了！\\033[0m')\n",
    "                exit(0)\n",
    "            elif a.status_code == 404:\n",
    "                continue\n",
    "            time = a.json()['created']\n",
    "            writer.writerows([[str(time), v['title']]])\n",
    "        num += 1\n",
    "        sleep(0.2)"
   ]
  }
 ],
 "metadata": {
  "kernelspec": {
   "display_name": "d2l",
   "language": "python",
   "name": "python3"
  },
  "language_info": {
   "codemirror_mode": {
    "name": "ipython",
    "version": 3
   },
   "file_extension": ".py",
   "mimetype": "text/x-python",
   "name": "python",
   "nbconvert_exporter": "python",
   "pygments_lexer": "ipython3",
   "version": "3.9.16"
  }
 },
 "nbformat": 4,
 "nbformat_minor": 2
}
